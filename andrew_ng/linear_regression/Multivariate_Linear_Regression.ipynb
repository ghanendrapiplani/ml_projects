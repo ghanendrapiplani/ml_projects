{
  "nbformat": 4,
  "nbformat_minor": 0,
  "metadata": {
    "colab": {
      "name": "Multivariate_Linear_Regression.ipynb",
      "provenance": []
    },
    "kernelspec": {
      "name": "python3",
      "display_name": "Python 3"
    }
  },
  "cells": [
    {
      "cell_type": "code",
      "metadata": {
        "id": "VLg6lI1H0AEF",
        "colab_type": "code",
        "colab": {
          "base_uri": "https://localhost:8080/",
          "height": 34
        },
        "outputId": "fa30da27-da8c-4bee-c849-1fae9b17387b"
      },
      "source": [
        "import numpy as np\n",
        "import matplotlib.pyplot as plt\n",
        "\n",
        "data = np.loadtxt(\"/content/drive/My Drive/ex1data2.txt\", delimiter=\",\")\n",
        "X = data[:, :2]\n",
        "y = data[:, 2]\n",
        "m = y.size\n",
        "print(y.shape)"
      ],
      "execution_count": 247,
      "outputs": [
        {
          "output_type": "stream",
          "text": [
            "(47,)\n"
          ],
          "name": "stdout"
        }
      ]
    },
    {
      "cell_type": "code",
      "metadata": {
        "id": "dJLI-O1h2c7W",
        "colab_type": "code",
        "colab": {}
      },
      "source": [
        "def normalize_data(x):\n",
        "  mean = np.mean(x)\n",
        "  std = np.std(x)\n",
        "  return ((x-mean)/std)\n",
        "\n",
        "X = normalize_data(X)\n",
        "y = normalize_data(y)\n",
        "X = np.concatenate([np.ones((m, 1)), X], axis=1)"
      ],
      "execution_count": 248,
      "outputs": []
    },
    {
      "cell_type": "code",
      "metadata": {
        "id": "vqZS_gOF3LGR",
        "colab_type": "code",
        "colab": {
          "base_uri": "https://localhost:8080/",
          "height": 34
        },
        "outputId": "f0643725-ccc0-44cd-cdc6-8da07148ccd9"
      },
      "source": [
        "def cost_multivariate(theta, X, y):\n",
        "  J = 0\n",
        "  theta = theta.copy()\n",
        "  h = np.dot(X, theta)\n",
        "  J = np.sum(np.square(h-y))/(2*y.shape[0])\n",
        "  return J\n",
        "\n",
        "print(cost_multivariate(np.array([0.1, 0.2, 0.3]), X, y ))"
      ],
      "execution_count": 249,
      "outputs": [
        {
          "output_type": "stream",
          "text": [
            "0.39185545217405937\n"
          ],
          "name": "stdout"
        }
      ]
    },
    {
      "cell_type": "code",
      "metadata": {
        "id": "FDH4xhwv6Dw7",
        "colab_type": "code",
        "colab": {}
      },
      "source": [
        "def gradient_descent_multi(X, y, theta, alpha, epochs):\n",
        "  cost_list = []\n",
        "  theta = theta.copy()\n",
        "  for i in range(epochs):\n",
        "    theta = theta - (alpha / m) * (np.dot(X, theta) - y).dot(X)\n",
        "    cost_list.append(cost_multivariate(X, y, theta))\n",
        "  return cost_list, theta\n",
        "\n"
      ],
      "execution_count": 250,
      "outputs": []
    },
    {
      "cell_type": "code",
      "metadata": {
        "id": "hXDsbBCZ7TZz",
        "colab_type": "code",
        "colab": {
          "base_uri": "https://localhost:8080/",
          "height": 34
        },
        "outputId": "1b6f0263-e730-4c85-9e57-56a0e05186bd"
      },
      "source": [
        "costs, theta_final = gradient_descent_multi(X, y, np.array([0,0,0]), 0.5, 100)\n",
        "print(theta_final)"
      ],
      "execution_count": 251,
      "outputs": [
        {
          "output_type": "stream",
          "text": [
            "[-0.61587808  1.24274803  0.5378758 ]\n"
          ],
          "name": "stdout"
        }
      ]
    },
    {
      "cell_type": "code",
      "metadata": {
        "id": "8GMkGCi_B_t2",
        "colab_type": "code",
        "colab": {
          "base_uri": "https://localhost:8080/",
          "height": 282
        },
        "outputId": "835abe9c-3d04-451a-a6d1-7434fe68f729"
      },
      "source": [
        "import matplotlib.pyplot as plt\n",
        "\n",
        "plt.plot(costs)"
      ],
      "execution_count": 252,
      "outputs": [
        {
          "output_type": "execute_result",
          "data": {
            "text/plain": [
              "[<matplotlib.lines.Line2D at 0x7f5555a4e6d8>]"
            ]
          },
          "metadata": {
            "tags": []
          },
          "execution_count": 252
        },
        {
          "output_type": "display_data",
          "data": {
            "image/png": "[encoded data removed]",
            "text/plain": [
              "<Figure size 432x288 with 1 Axes>"
            ]
          },
          "metadata": {
            "tags": [],
            "needs_background": "light"
          }
        }
      ]
    },
    {
      "cell_type": "code",
      "metadata": {
        "id": "gKc3PXdxHK-9",
        "colab_type": "code",
        "colab": {
          "base_uri": "https://localhost:8080/",
          "height": 34
        },
        "outputId": "20923bcd-223e-48cf-d210-9bdf3c295c08"
      },
      "source": [
        "def normalEqn(X, y):\n",
        "  theta = np.zeros(X.shape[1])\n",
        "  theta = np.dot(np.dot(np.linalg.inv(np.dot(X.T,X)),X.T),y)\n",
        "  return theta\n",
        "\n",
        "print(normalEqn(X,y))"
      ],
      "execution_count": 253,
      "outputs": [
        {
          "output_type": "stream",
          "text": [
            "[-71.6733931    1.2863532  -80.74222031]\n"
          ],
          "name": "stdout"
        }
      ]
    }
  ]
}