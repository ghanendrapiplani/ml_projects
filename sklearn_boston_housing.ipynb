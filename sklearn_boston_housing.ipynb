{
  "nbformat": 4,
  "nbformat_minor": 0,
  "metadata": {
    "colab": {
      "name": "sklearn_boston_housing.ipynb",
      "provenance": [],
      "collapsed_sections": [],
      "authorship_tag": "ABX9TyNg/nw/n1vcWrg+dfQT+UEX",
      "include_colab_link": true
    },
    "kernelspec": {
      "name": "python3",
      "display_name": "Python 3"
    }
  },
  "cells": [
    {
      "cell_type": "markdown",
      "metadata": {
        "id": "view-in-github",
        "colab_type": "text"
      },
      "source": [
        "<a href=\"https://colab.research.google.com/github/ghanendrapiplani/ml_projects/blob/master/sklearn_boston_housing.ipynb\" target=\"_parent\"><img src=\"https://colab.research.google.com/assets/colab-badge.svg\" alt=\"Open In Colab\"/></a>"
      ]
    },
    {
      "cell_type": "code",
      "metadata": {
        "id": "85K6Olv8SMSv",
        "colab_type": "code",
        "outputId": "79de357e-ae12-4eda-8e00-a1b72bd8d31c",
        "colab": {
          "base_uri": "https://localhost:8080/",
          "height": 268
        }
      },
      "source": [
        "import pandas as pd\n",
        "import matplotlib.pyplot as plt\n",
        "import numpy as np\n",
        "import seaborn as sns\n",
        "\n",
        "%matplotlib inline\n",
        "\n",
        "# We try fitting the above linear regression model to an actual real world dataset:\n",
        "# - CRIM     per capita crime rate by town\n",
        "# - ZN       proportion of residential land zoned for lots over 25,000 sq.ft.\n",
        "# - INDUS    proportion of non-retail business acres per town\n",
        "# - CHAS     Charles River dummy variable (= 1 if tract bounds river; 0 otherwise)\n",
        "# - NOX      nitric oxides concentration (parts per 10 million)\n",
        "# - RM       average number of rooms per dwelling\n",
        "# - AGE      proportion of owner-occupied units built prior to 1940\n",
        "# - DIS      weighted distances to five Boston employment centres\n",
        "# - RAD      index of accessibility to radial highways\n",
        "# - TAX      full-value property-tax rate per $10,000\n",
        "# - PTRATIO  pupil-teacher ratio by town\n",
        "# - B        1000(Bk - 0.63)^2 where Bk is the proportion of blacks by town\n",
        "# - LSTAT    % lower status of the population\n",
        "# - MEDV     Median value of owner-occupied homes in $1000's <----- Target value to predict\n",
        "\n",
        "from sklearn.datasets import load_boston\n",
        "import numpy as np\n",
        "from sklearn.model_selection import train_test_split\n",
        "from sklearn.linear_model import LinearRegression\n",
        "\n",
        "boston = load_boston()\n",
        "b_df = pd.DataFrame(boston['data'])\n",
        "b_df.columns = np.unique(boston['feature_names'])\n",
        "target_df = pd.DataFrame(boston['target'])\n",
        "target_df.columns=['Median']\n",
        "train_b_x, test_b_x, train_b_y, test_b_y = train_test_split(b_df, target_df, test_size=0.3, random_state=101)\n",
        "\n",
        "lm_b = LinearRegression()\n",
        "lm_b.fit(train_b_x, train_b_y)\n",
        "cdf_b = pd.DataFrame(lm_b.coef_[0], test_b_x.columns, columns=['Coeff'])\n",
        "print(cdf_b)\n",
        "print(lm_b.intercept_)\n"
      ],
      "execution_count": 0,
      "outputs": [
        {
          "output_type": "stream",
          "text": [
            "             Coeff\n",
            "AGE      -0.088505\n",
            "B         0.050293\n",
            "CHAS      0.020348\n",
            "CRIM      3.754271\n",
            "DIS     -17.748371\n",
            "INDUS     3.247765\n",
            "LSTAT     0.012001\n",
            "NOX      -1.409161\n",
            "PTRATIO   0.263881\n",
            "RAD      -0.010344\n",
            "RM       -0.951781\n",
            "TAX       0.006116\n",
            "ZN       -0.597133\n",
            "[40.21892901]\n"
          ],
          "name": "stdout"
        }
      ]
    },
    {
      "cell_type": "code",
      "metadata": {
        "id": "s0Ws0Jj4SVWF",
        "colab_type": "code",
        "outputId": "633483f3-b7b8-4170-9363-f44c37876601",
        "colab": {
          "base_uri": "https://localhost:8080/",
          "height": 281
        }
      },
      "source": [
        "pred = lm_b.predict(test_b_x)\n",
        "plt.scatter(test_b_y, pred)"
      ],
      "execution_count": 0,
      "outputs": [
        {
          "output_type": "execute_result",
          "data": {
            "text/plain": [
              "<matplotlib.collections.PathCollection at 0x7f769c82eeb8>"
            ]
          },
          "metadata": {
            "tags": []
          },
          "execution_count": 5
        },
        {
          "output_type": "display_data",
          "data": {
            "image/png": "[encoded data removed]",
            "text/plain": [
              "<Figure size 432x288 with 1 Axes>"
            ]
          },
          "metadata": {
            "tags": [],
            "needs_background": "light"
          }
        }
      ]
    },
    {
      "cell_type": "code",
      "metadata": {
        "id": "R7zp111fSWA8",
        "colab_type": "code",
        "outputId": "efbe0dd5-b86f-4818-9146-13e1bc45acec",
        "colab": {
          "base_uri": "https://localhost:8080/",
          "height": 281
        }
      },
      "source": [
        "sns.distplot((test_b_y - pred))"
      ],
      "execution_count": 0,
      "outputs": [
        {
          "output_type": "execute_result",
          "data": {
            "text/plain": [
              "<matplotlib.axes._subplots.AxesSubplot at 0x7f7699fa0908>"
            ]
          },
          "metadata": {
            "tags": []
          },
          "execution_count": 6
        },
        {
          "output_type": "display_data",
          "data": {
            "image/png": "[encoded data removed]",
            "text/plain": [
              "<Figure size 432x288 with 1 Axes>"
            ]
          },
          "metadata": {
            "tags": [],
            "needs_background": "light"
          }
        }
      ]
    },
    {
      "cell_type": "code",
      "metadata": {
        "id": "7a9dwHFJTh0E",
        "colab_type": "code",
        "outputId": "b98f2739-e421-42d2-93fd-42737ac8e8bb",
        "colab": {
          "base_uri": "https://localhost:8080/",
          "height": 67
        }
      },
      "source": [
        "from sklearn import metrics\n",
        "\n",
        "print(metrics.mean_absolute_error(test_b_y, pred ))\n",
        "print(metrics.mean_squared_error(test_b_y, pred ))\n",
        "print(np.sqrt(metrics.mean_squared_error(test_b_y, pred )))"
      ],
      "execution_count": 0,
      "outputs": [
        {
          "output_type": "stream",
          "text": [
            "3.835696361418927\n",
            "28.547585271468208\n",
            "5.342994036256096\n"
          ],
          "name": "stdout"
        }
      ]
    }
  ]
}