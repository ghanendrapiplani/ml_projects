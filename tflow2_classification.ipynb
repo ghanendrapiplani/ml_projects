{
  "nbformat": 4,
  "nbformat_minor": 0,
  "metadata": {
    "colab": {
      "name": "tflow2_classification.ipynb",
      "provenance": [],
      "authorship_tag": "ABX9TyOl4ZOj6WRUvtNgWyxP89wm",
      "include_colab_link": true
    },
    "kernelspec": {
      "name": "python3",
      "display_name": "Python 3"
    }
  },
  "cells": [
    {
      "cell_type": "markdown",
      "metadata": {
        "id": "view-in-github",
        "colab_type": "text"
      },
      "source": [
        "<a href=\"https://colab.research.google.com/github/ghanendrapiplani/ml_projects/blob/master/tflow2_classification.ipynb\" target=\"_parent\"><img src=\"https://colab.research.google.com/assets/colab-badge.svg\" alt=\"Open In Colab\"/></a>"
      ]
    },
    {
      "cell_type": "code",
      "metadata": {
        "id": "98lqp_ZXCVgF",
        "colab_type": "code",
        "colab": {}
      },
      "source": [
        "import tensorflow as tf\n",
        "\n",
        "import pandas as pd\n",
        "\n",
        "CSV_COLUMN_NAMES = ['SepalLength', 'SepalWidth', 'PetalLength', 'PetalWidth', 'Species']\n",
        "SPECIES = ['Setosa', 'Versicolor', 'Virginica']\n",
        "\n",
        "train_path = tf.keras.utils.get_file(\n",
        "    \"iris_training.csv\", \"https://storage.googleapis.com/download.tensorflow.org/data/iris_training.csv\")\n",
        "test_path = tf.keras.utils.get_file(\n",
        "    \"iris_test.csv\", \"https://storage.googleapis.com/download.tensorflow.org/data/iris_test.csv\")\n",
        "\n",
        "train = pd.read_csv(train_path, names=CSV_COLUMN_NAMES, header=0)\n",
        "test = pd.read_csv(test_path, names=CSV_COLUMN_NAMES, header=0)\n",
        "\n",
        "print(train.head())\n",
        "print(test.head())\n",
        "\n",
        "train_y = train.pop('Species')\n",
        "test_y = test.pop('Species')\n",
        "\n",
        "print(train_y.head())\n",
        "print(test_y.head())"
      ],
      "execution_count": 0,
      "outputs": []
    },
    {
      "cell_type": "code",
      "metadata": {
        "id": "BfZ7hKufUVAd",
        "colab_type": "code",
        "colab": {
          "base_uri": "https://localhost:8080/",
          "height": 53
        },
        "outputId": "4decda90-8d17-4c45-ad6e-d9c322f72e45"
      },
      "source": [
        "feature_cols = []\n",
        "for col in train:\n",
        "  feature_cols.append(tf.feature_column.numeric_column(key=col))\n",
        "print(feature_cols)"
      ],
      "execution_count": 51,
      "outputs": [
        {
          "output_type": "stream",
          "text": [
            "[NumericColumn(key='SepalLength', shape=(1,), default_value=None, dtype=tf.float32, normalizer_fn=None), NumericColumn(key='SepalWidth', shape=(1,), default_value=None, dtype=tf.float32, normalizer_fn=None), NumericColumn(key='PetalLength', shape=(1,), default_value=None, dtype=tf.float32, normalizer_fn=None), NumericColumn(key='PetalWidth', shape=(1,), default_value=None, dtype=tf.float32, normalizer_fn=None)]\n"
          ],
          "name": "stdout"
        }
      ]
    },
    {
      "cell_type": "code",
      "metadata": {
        "id": "nvpVchckSVkR",
        "colab_type": "code",
        "colab": {}
      },
      "source": [
        "def input_func(features, labels, training=True, batch_size=256):\n",
        "    # Convert the inputs to a Dataset.\n",
        "    dataset = tf.data.Dataset.from_tensor_slices((dict(features), labels))\n",
        "\n",
        "    # Shuffle and repeat if you are in training mode.\n",
        "    if training:\n",
        "        dataset = dataset.shuffle(1000).repeat()\n",
        "    \n",
        "    return dataset.batch(batch_size)"
      ],
      "execution_count": 0,
      "outputs": []
    },
    {
      "cell_type": "code",
      "metadata": {
        "id": "9e2VHU_9Tg-B",
        "colab_type": "code",
        "colab": {}
      },
      "source": [
        "classifier = tf.estimator.DNNClassifier(\n",
        "    feature_columns = feature_cols,\n",
        "    hidden_units = [30, 10],\n",
        "    n_classes = 3 # number of classes for model to choose from, in our case SPECIES = ['Setosa', 'Versicolor', 'Virginica']\n",
        ")\n",
        "\n",
        "\n",
        "classifier.train(\n",
        "    input_fn=lambda: input_func(train, train_y, training=True),\n",
        "    steps=5000)"
      ],
      "execution_count": 0,
      "outputs": []
    },
    {
      "cell_type": "code",
      "metadata": {
        "id": "dl6mQnBha1SJ",
        "colab_type": "code",
        "colab": {}
      },
      "source": [
        "eval_result = classifier.evaluate(\n",
        "    input_fn=lambda: input_func(test, test_y, training=False))\n",
        "\n",
        "print('\\nTest set accuracy: {accuracy:0.3f}\\n'.format(**eval_result))"
      ],
      "execution_count": 0,
      "outputs": []
    },
    {
      "cell_type": "code",
      "metadata": {
        "id": "EFQ71Vvsej1n",
        "colab_type": "code",
        "colab": {
          "base_uri": "https://localhost:8080/",
          "height": 268
        },
        "outputId": "60e62c95-d9d9-4897-c110-0a63ae8b6aa7"
      },
      "source": [
        "def pred_fn(data, batch_size=256):\n",
        "  return tf.data.Dataset.from_tensor_slices((dict(data))).batch(batch_size)\n",
        "\n",
        "cols = train.keys()\n",
        "predict = {}\n",
        "\n",
        "print(\"Please type numeric values as prompted.\")\n",
        "for feature in cols:\n",
        "  valid = True\n",
        "  while valid: \n",
        "    val = input(feature + \": \")\n",
        "    if not val.isdigit(): valid = False\n",
        "  predict[feature] = [float(val)]\n",
        "\n",
        "print(predict)\n",
        "predictions = classifier.predict(input_fn=lambda: pred_fn(predict))\n",
        "for pred_dict in predictions:\n",
        "  class_id = pred_dict['class_ids'][0]\n",
        "  probability = pred_dict['probabilities'][class_id]\n",
        "  print(class_id)\n",
        "  print(probability)\n",
        "  print(\"The species predicted is {} with a probability of ({:.1f}%)\".format(SPECIES[class_id], 100* probability))"
      ],
      "execution_count": 69,
      "outputs": [
        {
          "output_type": "stream",
          "text": [
            "Please type numeric values as prompted.\n",
            "SepalLength: 2.1\n",
            "SepalWidth: 2.3\n",
            "PetalLength: 2.1\n",
            "PetalWidth: 4.3\n",
            "{'SepalLength': [2.1], 'SepalWidth': [2.3], 'PetalLength': [2.1], 'PetalWidth': [4.3]}\n",
            "INFO:tensorflow:Calling model_fn.\n",
            "INFO:tensorflow:Done calling model_fn.\n",
            "INFO:tensorflow:Graph was finalized.\n",
            "INFO:tensorflow:Restoring parameters from /tmp/tmpae_h9w9q/model.ckpt-5000\n",
            "INFO:tensorflow:Running local_init_op.\n",
            "INFO:tensorflow:Done running local_init_op.\n",
            "2\n",
            "0.77001935\n",
            "The species predicted is Virginica with a probability of (77.0%)\n"
          ],
          "name": "stdout"
        }
      ]
    }
  ]
}